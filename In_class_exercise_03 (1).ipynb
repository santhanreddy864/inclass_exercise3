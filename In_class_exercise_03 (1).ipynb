{
  "nbformat": 4,
  "nbformat_minor": 0,
  "metadata": {
    "kernelspec": {
      "display_name": "Python 3",
      "language": "python",
      "name": "python3"
    },
    "language_info": {
      "codemirror_mode": {
        "name": "ipython",
        "version": 3
      },
      "file_extension": ".py",
      "mimetype": "text/x-python",
      "name": "python",
      "nbconvert_exporter": "python",
      "pygments_lexer": "ipython3",
      "version": "3.7.4"
    },
    "colab": {
      "name": "In-class-exercise-03.ipynb",
      "provenance": []
    }
  },
  "cells": [
    {
      "cell_type": "markdown",
      "metadata": {
        "id": "M0EN8UUzenIM"
      },
      "source": [
        "## The third In-class-exercise (9/16/2020, 20 points in total)"
      ]
    },
    {
      "cell_type": "markdown",
      "metadata": {
        "id": "CV8GZCFtenIQ"
      },
      "source": [
        "The purpose of this exercise is to under users' information needs, then collect the data for analysis."
      ]
    },
    {
      "cell_type": "markdown",
      "metadata": {
        "id": "ajqX3pALenIS"
      },
      "source": [
        "Question 1 (8 points): Describe an interesting research question (or practical question) you have in mind, what kind of data should be collected to answer the question(s)? How many data needed for the analysis? The detail steps for collecting and save the data. "
      ]
    },
    {
      "cell_type": "code",
      "metadata": {
        "colab": {
          "base_uri": "https://localhost:8080/",
          "height": 136
        },
        "id": "fFZsZNQlenIS",
        "outputId": "9da25695-6a01-470f-aafb-79694efa64f5"
      },
      "source": [
        "# Your answer here (no code for this question, write down your answer as detail as possible for the above questions):\n",
        "\n",
        "'''\n",
        "Please write you answer here:\n",
        "My research question is to get the reviews of new apple ipad air(10.9-inch, Wi-Fi, 64GB) - Sky Blue (Latest Model, 4th Generation).Data needed for this question is the\n",
        " customer reviews who bought and using the device.Here ecommerce websites contains the reviews of the device.I have taken Amazon.com to get the reviews of the device because of\n",
        " its reliability on customer reviews.Now we can check the overall reviews by using words whether the customer has given positive ones or the negative ones.As required below we \n",
        " need to take atleast 500 reviews.\n",
        "\n",
        "Steps for collecting and save the data:\n",
        "\n",
        "we need to use beautifulsoup library to get the data from the website \n",
        "Then we have to extract device reviews using classname and give it to  emptylist here we can know by using the inspect on the review heading.\n",
        "From the question below there is the minimum requirement that we need to collect atleast 500 reviews here on the amozon page each page shows 10 reviews only.\n",
        "Here it gave the link dynamically to iterate.\n",
        "The next is to create data frame using my list \n",
        "And we need to convert that data frame into csv file.\n",
        "\n",
        "\n",
        "\n",
        "'''"
      ],
      "execution_count": 25,
      "outputs": [
        {
          "output_type": "execute_result",
          "data": {
            "application/vnd.google.colaboratory.intrinsic+json": {
              "type": "string"
            },
            "text/plain": [
              "'\\nPlease write you answer here:\\nMy research question is to get the reviews of new apple ipad air(10.9-inch, Wi-Fi, 64GB) - Sky Blue (Latest Model, 4th Generation).Data needed for this question is the\\n customer reviews who bought and using the device.Here ecommerce websites contains the reviews of the device.I have taken Amazon.com to get the reviews of the device because of\\n its reliability on customer reviews.Now we can check the overall reviews by using words whether the customer has given positive ones or the negative ones.As required below we \\n need to take atleast 500 reviews.\\n\\nSteps for collecting and save the data:\\n\\nwe need to use beautifulsoup library to get the data from the website \\nThen we have to extract device reviews using classname and give it to  emptylist here we can know by using the inspect on the review heading.\\nFrom the question below there is the minimum requirement that we need to collect atleast 500 reviews here on the amozon page each page shows 10 reviews only.\\nHere it gave the link dynamically to iterate.\\nThe next is to create data frame using my list \\nAnd we need to convert that data frame into csv file.\\n\\n\\n\\n'"
            ]
          },
          "metadata": {
            "tags": []
          },
          "execution_count": 25
        }
      ]
    },
    {
      "cell_type": "code",
      "metadata": {
        "colab": {
          "base_uri": "https://localhost:8080/"
        },
        "id": "G6bJEy79rRoA",
        "outputId": "f4875a83-fdca-4b0e-d33e-47663c492136"
      },
      "source": [
        "pip install beautifulsoup4\r\n"
      ],
      "execution_count": 26,
      "outputs": [
        {
          "output_type": "stream",
          "text": [
            "Requirement already satisfied: beautifulsoup4 in /usr/local/lib/python3.6/dist-packages (4.6.3)\n"
          ],
          "name": "stdout"
        }
      ]
    },
    {
      "cell_type": "markdown",
      "metadata": {
        "id": "jzo5ZcW8enIT"
      },
      "source": [
        "Question 2 (12 points): Write python code to collect 500 items of the data you plan to collect above."
      ]
    },
    {
      "cell_type": "code",
      "metadata": {
        "colab": {
          "base_uri": "https://localhost:8080/",
          "height": 362
        },
        "id": "RAGnzYJWenIT",
        "outputId": "d1d0c5d5-a002-4c8e-aa0f-eb8efe516ce9"
      },
      "source": [
        "import requests \n",
        "import json \n",
        "import time\n",
        "from time import sleep\n",
        "import random\n",
        "import pandas as pd\n",
        "from bs4 import BeautifulSoup\n",
        "l1 = []\n",
        "#Giving l1 to load review headings\n",
        "l2 = []\n",
        "#Giving l2 to load reviews\n",
        "for no in range(52):\n",
        "  link = \"https://www.amazon.com/Apple-iPad-Air-10-9-inch-Wi-Fi-64GB/product-reviews/B08J61FCVN/ref=cm_cr_dp_d_show_all_btm?ie=UTF8&reviewerType=all_reviews\" + str(no)\n",
        "  #providing link\n",
        "  page = requests.get(link)\n",
        "  #Here we are retrieving the webpage\n",
        "  soup = BeautifulSoup(page.text, 'html.parser')\n",
        "  head_review = soup.find_all(class_='a-size-base a-link-normal review-title a-color-base review-title-content a-text-bold')\n",
        "  \n",
        "  #Here we are getting the review heading by inspecting the class name\n",
        "  description_review = soup.find_all(class_='a-size-base review-text review-text-content')\n",
        "  #Here we are getting the total review by inspecting the class name\n",
        "\n",
        "  #Now we start to iterate in the list \n",
        "  for ele, l2_ele in zip(head_review, description_review) :\n",
        "    l1.append(ele.text)\n",
        "    #starting the process to giving it to my empty list\n",
        "    l2.append(l2_ele.text)\n",
        "\n",
        "#Then the next phase here is we need to create dataframe\n",
        "df = pd.DataFrame(list(zip(l1, l2)), columns =['overview of customer review', 'detailed Review'])\n",
        "#\n",
        "\n",
        "print(\"Choosen data frame length is: {0}\".format(len(df))) \n",
        "df\n",
        "\n",
        "\n",
        "\n",
        "\n",
        "\n",
        "\n",
        "\n"
      ],
      "execution_count": 40,
      "outputs": [
        {
          "output_type": "stream",
          "text": [
            "Choosen data frame length is: 10\n"
          ],
          "name": "stdout"
        },
        {
          "output_type": "execute_result",
          "data": {
            "text/html": [
              "<div>\n",
              "<style scoped>\n",
              "    .dataframe tbody tr th:only-of-type {\n",
              "        vertical-align: middle;\n",
              "    }\n",
              "\n",
              "    .dataframe tbody tr th {\n",
              "        vertical-align: top;\n",
              "    }\n",
              "\n",
              "    .dataframe thead th {\n",
              "        text-align: right;\n",
              "    }\n",
              "</style>\n",
              "<table border=\"1\" class=\"dataframe\">\n",
              "  <thead>\n",
              "    <tr style=\"text-align: right;\">\n",
              "      <th></th>\n",
              "      <th>overview of customer review</th>\n",
              "      <th>detailed Review</th>\n",
              "    </tr>\n",
              "  </thead>\n",
              "  <tbody>\n",
              "    <tr>\n",
              "      <th>0</th>\n",
              "      <td>\\nSmall improvements combine for a great exper...</td>\n",
              "      <td>\\n\\n  This new iPad Air, on the surface, isn't...</td>\n",
              "    </tr>\n",
              "    <tr>\n",
              "      <th>1</th>\n",
              "      <td>\\nGreat product, delivery concerning\\n</td>\n",
              "      <td>\\n\\n  Having had ipad , ipad air 2, I would ha...</td>\n",
              "    </tr>\n",
              "    <tr>\n",
              "      <th>2</th>\n",
              "      <td>\\nnot to user friendly for person over 65 olds...</td>\n",
              "      <td>\\n\\n  doesn't work that great slow, to many ap...</td>\n",
              "    </tr>\n",
              "    <tr>\n",
              "      <th>3</th>\n",
              "      <td>\\nGreat for the casuals, and then some\\n</td>\n",
              "      <td>\\n\\n  I purchased this as a sort-of alternativ...</td>\n",
              "    </tr>\n",
              "    <tr>\n",
              "      <th>4</th>\n",
              "      <td>\\niPad Air 4 Rocks\\n</td>\n",
              "      <td>\\n\\n  I held off replacing my iPad Air 2 in ho...</td>\n",
              "    </tr>\n",
              "    <tr>\n",
              "      <th>5</th>\n",
              "      <td>\\nThe New iPad Air Is A Hit!!\\n</td>\n",
              "      <td>\\n\\n  I think this particular iPad will be a p...</td>\n",
              "    </tr>\n",
              "    <tr>\n",
              "      <th>6</th>\n",
              "      <td>\\nActually a downgrade from the previous Air\\n</td>\n",
              "      <td>\\n\\n  I find Apple continues to disappoint wit...</td>\n",
              "    </tr>\n",
              "    <tr>\n",
              "      <th>7</th>\n",
              "      <td>\\nFaster, Better than last ipad or android tab...</td>\n",
              "      <td>\\n\\n  Nothing beats the speed and functionalit...</td>\n",
              "    </tr>\n",
              "    <tr>\n",
              "      <th>8</th>\n",
              "      <td>\\nGood 💜\\n</td>\n",
              "      <td>\\n\\n  Good iPad; it’s fast, the display looks ...</td>\n",
              "    </tr>\n",
              "    <tr>\n",
              "      <th>9</th>\n",
              "      <td>\\nToo heavy and bulky\\n</td>\n",
              "      <td>\\n\\n  Just upgraded from an older iPad Pro Air...</td>\n",
              "    </tr>\n",
              "  </tbody>\n",
              "</table>\n",
              "</div>"
            ],
            "text/plain": [
              "                         overview of customer review                                    detailed Review\n",
              "0  \\nSmall improvements combine for a great exper...  \\n\\n  This new iPad Air, on the surface, isn't...\n",
              "1             \\nGreat product, delivery concerning\\n  \\n\\n  Having had ipad , ipad air 2, I would ha...\n",
              "2  \\nnot to user friendly for person over 65 olds...  \\n\\n  doesn't work that great slow, to many ap...\n",
              "3           \\nGreat for the casuals, and then some\\n  \\n\\n  I purchased this as a sort-of alternativ...\n",
              "4                               \\niPad Air 4 Rocks\\n  \\n\\n  I held off replacing my iPad Air 2 in ho...\n",
              "5                    \\nThe New iPad Air Is A Hit!!\\n  \\n\\n  I think this particular iPad will be a p...\n",
              "6     \\nActually a downgrade from the previous Air\\n  \\n\\n  I find Apple continues to disappoint wit...\n",
              "7  \\nFaster, Better than last ipad or android tab...  \\n\\n  Nothing beats the speed and functionalit...\n",
              "8                                         \\nGood 💜\\n  \\n\\n  Good iPad; it’s fast, the display looks ...\n",
              "9                            \\nToo heavy and bulky\\n  \\n\\n  Just upgraded from an older iPad Pro Air..."
            ]
          },
          "metadata": {
            "tags": []
          },
          "execution_count": 40
        }
      ]
    },
    {
      "cell_type": "code",
      "metadata": {
        "id": "vwYSTW0lTdcP"
      },
      "source": [
        "df.to_csv('data.csv', index=False)\r\n",
        "#this command is used to convert the csv file from the given dataframe"
      ],
      "execution_count": 28,
      "outputs": []
    }
  ]
}